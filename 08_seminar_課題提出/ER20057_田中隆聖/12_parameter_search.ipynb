{
  "cells": [
    {
      "cell_type": "markdown",
      "metadata": {
        "id": "wJU2RPpSvlQT"
      },
      "source": [
        "# 12：ハイパーパラメータの探索と検証データ\n",
        "\n",
        "\n",
        "---\n",
        "## 目的\n",
        "CNNを用いたMNISTデータセット文字認識を通じて，ハイパーパラメータの探索・検証および検証データの役割について理解する．\n",
        "\n",
        "また，ここではGPUを用いたネットワークの計算を行う．\n"
      ]
    },
    {
      "cell_type": "markdown",
      "metadata": {
        "id": "5rQGfxWYK_4O"
      },
      "source": [
        "## 準備\n",
        "\n",
        "### Google Colaboratoryの設定確認・変更\n",
        "本チュートリアルではPyTorchを利用してニューラルネットワークの実装を確認，学習および評価を行います．\n",
        "**GPUを用いて処理を行うために，上部のメニューバーの「ランタイム」→「ランタイムのタイプを変更」からハードウェアアクセラレータをGPUにしてください．**\n"
      ]
    },
    {
      "cell_type": "markdown",
      "metadata": {
        "id": "Xo4jjpmwvle1"
      },
      "source": [
        "## モジュールのインポート\n",
        "はじめに必要なモジュールをインポートする．\n",
        "\n",
        "### GPUの確認\n",
        "GPUを使用した計算が可能かどうかを確認します．\n",
        "\n",
        "`GPU availability: True`と表示されれば，GPUを使用した計算をPyTorchで行うことが可能です．\n",
        "Falseとなっている場合は，上記の「Google Colaboratoryの設定確認・変更」に記載している手順にしたがって，設定を変更した後に，モジュールのインポートから始めてください．\n"
      ]
    },
    {
      "cell_type": "code",
      "execution_count": 1,
      "metadata": {
        "id": "iCeaCulfvlao",
        "outputId": "632270bb-b05a-4f25-f0a4-5dcc6518505c",
        "colab": {
          "base_uri": "https://localhost:8080/"
        }
      },
      "outputs": [
        {
          "output_type": "stream",
          "name": "stdout",
          "text": [
            "Use CUDA: True\n"
          ]
        }
      ],
      "source": [
        "# モジュールのインポート\n",
        "import os\n",
        "from time import time\n",
        "import numpy as np\n",
        "import torch\n",
        "import torch.nn as nn\n",
        "\n",
        "import torchvision\n",
        "import torchvision.transforms as transforms\n",
        "\n",
        "import torchsummary\n",
        "\n",
        "import gzip\n",
        "from random import randint\n",
        "\n",
        "import matplotlib.pyplot as plt\n",
        "\n",
        "# GPUの確認\n",
        "use_cuda = torch.cuda.is_available()\n",
        "print('Use CUDA:', use_cuda)"
      ]
    },
    {
      "cell_type": "markdown",
      "metadata": {
        "id": "9nbdiIyZId5i"
      },
      "source": [
        "## データセットのダウンロードと読み込みと学習サンプルの削減\n",
        "\n",
        "\n",
        "まずはじめに，`wget`コマンドを使用して，MNISTデータセットをダウンロードします．"
      ]
    },
    {
      "cell_type": "code",
      "execution_count": 2,
      "metadata": {
        "id": "N1LbRsqxIfoF"
      },
      "outputs": [],
      "source": [
        "!wget -q http://yann.lecun.com/exdb/mnist/train-images-idx3-ubyte.gz -O train-images-idx3-ubyte.gz\n",
        "!wget -q http://yann.lecun.com/exdb/mnist/train-labels-idx1-ubyte.gz -O train-labels-idx1-ubyte.gz\n",
        "!wget -q http://yann.lecun.com/exdb/mnist/t10k-images-idx3-ubyte.gz -O t10k-images-idx3-ubyte.gz\n",
        "!wget -q http://yann.lecun.com/exdb/mnist/t10k-labels-idx1-ubyte.gz -O t10k-labels-idx1-ubyte.gz"
      ]
    },
    {
      "cell_type": "markdown",
      "metadata": {
        "id": "K5R2ghpzIqyf"
      },
      "source": [
        "次に，ダウンロードしたファイルからデータを読み込みます．詳細は前回までのプログラムを確認してください．\n",
        "\n",
        "今回は2次元の画像データとしてMNISTデータセットを扱うため，\n",
        "データを`(チャンネル, 縦，横)`の形に並べ替えます．"
      ]
    },
    {
      "cell_type": "code",
      "execution_count": 3,
      "metadata": {
        "id": "JlChw880IqDC",
        "outputId": "abf08f47-971a-45db-b50c-5fc0f314e272",
        "colab": {
          "base_uri": "https://localhost:8080/"
        }
      },
      "outputs": [
        {
          "output_type": "stream",
          "name": "stdout",
          "text": [
            "(60000, 1, 28, 28) (60000,)\n",
            "(10000, 1, 28, 28) (10000,)\n"
          ]
        }
      ],
      "source": [
        "# load images\n",
        "with gzip.open('train-images-idx3-ubyte.gz', 'rb') as f:\n",
        "    x_train = np.frombuffer(f.read(), np.uint8, offset=16)\n",
        "x_train = x_train.reshape(-1, 784)\n",
        "\n",
        "with gzip.open('t10k-images-idx3-ubyte.gz', 'rb') as f:\n",
        "    x_test = np.frombuffer(f.read(), np.uint8, offset=16)\n",
        "x_test = x_test.reshape(-1, 784)\n",
        "\n",
        "with gzip.open('train-labels-idx1-ubyte.gz', 'rb') as f:\n",
        "    y_train = np.frombuffer(f.read(), np.uint8, offset=8)\n",
        "\n",
        "with gzip.open('t10k-labels-idx1-ubyte.gz', 'rb') as f:\n",
        "    y_test = np.frombuffer(f.read(), np.uint8, offset=8)\n",
        "\n",
        "x_train = x_train.reshape(-1, 1, 28, 28)\n",
        "x_test = x_test.reshape(-1, 1, 28, 28)\n",
        "\n",
        "print(x_train.shape, y_train.shape)\n",
        "print(x_test.shape, y_test.shape)"
      ]
    },
    {
      "cell_type": "markdown",
      "metadata": {
        "id": "G8w7yul9UBOc"
      },
      "source": [
        "## 検証データの作成\n",
        "\n",
        "ネットワークの学習やモデルの定義には多くのハイパーパラメータが存在します．例えば，\n",
        "* ネットワークのハイパーパラメータ\n",
        "  * 中間層の層数\n",
        "  * 中間層のユニット数\n",
        "  * Dropoutを適用するかどうか（Dropoutを用いる場所やdropout ratio）\n",
        "  * Batch Normalizationを適用するかどうか\n",
        "\n",
        "* 学習のハイパーパラメータ\n",
        "  * 学習率\n",
        "  * 学習回数\n",
        "  * ミニバッチサイズ\n",
        "\n",
        "などが挙げられます．\n",
        "\n",
        "最適なハイパーパラメータを決定するために使用するデータを**検証データ（validation data）**と呼びます．\n",
        "\n",
        "MNISTデータセットには学習データ（train data）とテストデータ（test data）しか存在しません．このように，専用の検証データが存在しないデータセットや個人が作成したオリジナルのデータセットでは，学習データの一部を検証データとして使用します．\n",
        "\n",
        "以下では，MNISTデータセットの学習データを分割し，学習および検証データを作成します．\n",
        "まず，検証データに使用するデータの割合を`validation_ratio`として定義します．\n",
        "今回は学習データの20%を検証データとして使用することとし，0.2と指定します．\n",
        "この割合に基づいて，学習データの20%となるサンプル数を`n_val`として計算します．\n",
        "\n",
        "その後，学習および検証データになるよう，データを分割します．\n",
        "\n",
        "実行すると，60000枚の学習サンプルの20%である12000枚が検証データ，残りの80%の48000枚が学習データになるよう分割されていることがわかります．\n"
      ]
    },
    {
      "cell_type": "code",
      "execution_count": 4,
      "metadata": {
        "id": "cnMbRmPTUBUn",
        "outputId": "0f192bd3-7402-4c8b-8174-c7cb0505798e",
        "colab": {
          "base_uri": "https://localhost:8080/"
        }
      },
      "outputs": [
        {
          "output_type": "stream",
          "name": "stdout",
          "text": [
            "train      : (48000, 1, 28, 28) (48000,)\n",
            "validation : (12000, 1, 28, 28) (12000,)\n",
            "test       : (10000, 1, 28, 28) (10000,)\n"
          ]
        }
      ],
      "source": [
        "validation_ratio = 0.2   # 検証に使用するデータの割合\n",
        "n_train_original = x_train.shape[0]\n",
        "n_val = int(n_train_original * validation_ratio)\n",
        "\n",
        "# 検証データ\n",
        "x_val = x_train[0:n_val]\n",
        "y_val = y_train[0:n_val]\n",
        "\n",
        "# 学習データ\n",
        "x_train = x_train[n_val:]\n",
        "y_train = y_train[n_val:]\n",
        "\n",
        "print(\"train      :\", x_train.shape, y_train.shape)\n",
        "print(\"validation :\", x_val.shape, y_val.shape)\n",
        "print(\"test       :\", x_test.shape, y_test.shape)"
      ]
    },
    {
      "cell_type": "markdown",
      "metadata": {
        "id": "xgDd3iX2zmSV"
      },
      "source": [
        "## ネットワークモデルの定義\n",
        "畳み込みニューラルネットワークを定義します．\n",
        "\n",
        "ここでは，畳み込み層1層，全結合層2層から構成されるネットワークとします．\n",
        "\n",
        "ここでは，最適なネットワーク構造をハイパーパラメータとして探索するために，ネットワーク構造のパラメータをクラスの引数として定義し，任意のサイズのネットワークを作成できるようにクラス定義を行います．\n",
        "\n",
        "1層目の畳み込み層は入力チャンネル数を`in_channels`，出力する特徴マップ数を`out_channels`，畳み込むフィルタサイズを`kernel_size`$\\times$`kernel_size`として定義します．\n",
        "1つ目の全結合層は入力ユニット数は畳み込みの特徴マップ数から自動で計算し，出力を`hidden_size`として定義します．\n",
        "これらの各層の構成を`__init__`関数で定義します．\n",
        "\n",
        "次に，`forward`関数では，定義した層を接続して処理するように記述します．"
      ]
    },
    {
      "cell_type": "code",
      "execution_count": 9,
      "metadata": {
        "id": "TNHnp_YczmY3"
      },
      "outputs": [],
      "source": [
        "class CNN(nn.Module):\n",
        "    def __init__(self, in_channels=1, out_channels= 64, kernel_size=3, hidden_size=128):\n",
        "        super().__init__()\n",
        "        self.conv = nn.Conv2d(in_channels, out_channels, kernel_size=kernel_size, stride=1, padding=1)\n",
        "        self.relu = nn.ReLU()\n",
        "        self.pool = nn.MaxPool2d(2, 2)\n",
        "        self.l1 = nn.Linear(int(28/2) * int(28/2) * out_channels, hidden_size)\n",
        "        self.l2 = nn.Linear(hidden_size, 10)\n",
        "    \n",
        "    def forward(self, x):\n",
        "        h = self.relu(self.conv(x))\n",
        "        h = self.pool(h)\n",
        "        h = h.view(h.size()[0], -1)\n",
        "        h = self.relu(self.l1(h))\n",
        "        h = self.l2(h)\n",
        "        return h"
      ]
    },
    {
      "cell_type": "markdown",
      "metadata": {
        "id": "zIPMneA4UMES"
      },
      "source": [
        "## 学習およびハイパーパラメータ探索の準備\n",
        "\n"
      ]
    },
    {
      "cell_type": "markdown",
      "metadata": {
        "id": "zEpMENsiUMI2"
      },
      "source": [
        "\n",
        "### 探索時に共通するパラメータの設定\n",
        "\n",
        "まずはじめに，探索時に共通するパラメータを定義します．\n",
        "具体的には，入力層のユニット数`input_size`および出力層のユニット数`output_size`は，探索時には共通であるため，事前に定義しておきます．\n",
        "また，学習，検証データのサンプル数もすでに決まっているため，変数として定義しておきます．"
      ]
    },
    {
      "cell_type": "code",
      "execution_count": 6,
      "metadata": {
        "id": "cqITHAy3UMQw"
      },
      "outputs": [],
      "source": [
        "input_size = x_train.shape[1]\n",
        "output_size = 10\n",
        "\n",
        "num_train_data = x_train.shape[0]\n",
        "num_val_data = x_val.shape[0]\n",
        "num_test_data = x_test.shape[0]"
      ]
    },
    {
      "cell_type": "markdown",
      "metadata": {
        "id": "A03OafHqUMXn"
      },
      "source": [
        "### 探索するパラメータの設定\n",
        "\n",
        "次に，検証データを用いて最適な値を求めたいパラメータを定義します．\n",
        "\n",
        "ここでは，畳み込み層のチャンネル数（``）のユニット数の最適な値を`channel_list = [32, 64, 128, 256]`の中から求めるものとし，他のパラメータは固定します．\n",
        "\n",
        "**下部にある課題ではその他のパラメータを探索しますが，その他のパラメータをリストとして定義して，探索しましょう．**\n",
        "\n",
        "また，パラメータの探索には複数回の学習を行う必要があり計算に多くの時間を要します．\n",
        "ここでは，実習中の計算時間削減のために，学習エポック数を10と小さい値に設定します．"
      ]
    },
    {
      "cell_type": "code",
      "execution_count": 14,
      "metadata": {
        "id": "-gnZyXtcUMc3"
      },
      "outputs": [],
      "source": [
        "n_hidden = 64\n",
        "# n_hidden_list = [16, 32, 64, 128, 256]\n",
        "\n",
        "channel_list = [32, 64, 128, 256]\n",
        "\n",
        "batch_size = 100\n",
        "n_iter = num_train_data / batch_size\n",
        "\n",
        "learning_rate = 0.001\n",
        "# learning_rate_list = [0.1, 0.05, 0.01, 0.005, 0.001]\n",
        "\n",
        "epoch_num = 10\n",
        "\n",
        "learning_rate = 0.01"
      ]
    },
    {
      "cell_type": "markdown",
      "metadata": {
        "id": "ZmDpq4r9Ujsj"
      },
      "source": [
        "## ハイパーパラメータ探索\n",
        "\n",
        "ハイパーパラメータ探索を行います．\n",
        "\n",
        "まず，各パラメータでの結果を保存するためのリスト`param_search_list`を作成します．\n",
        "\n",
        "次に，for文を用いて探索したいハイパーパラメータを一つづつ指定し，ネットワークの学習と検証データでの精度を求めます．\n",
        "ネットワークの学習プログラムは前回までのもの同様のため詳細は割愛します．\n",
        "\n",
        "学習が終了すると，探索したパラメータの値やその時の誤差および精度の推移のデータを辞書型オブジェクト`result`に格納し，それを`param_search_list`に保存します．\n",
        "\n",
        "これを繰り返すことで，各パラメータの値を用いた場合の精度や学習推移を確認比較することが可能となり，より精度の高いネットワークを構築するためのあたりをつけることができます．"
      ]
    },
    {
      "cell_type": "code",
      "execution_count": 15,
      "metadata": {
        "id": "jkOTUB2HUjyN",
        "outputId": "ffc3c5fa-025a-4b4b-af9d-d30b136cf10c",
        "colab": {
          "base_uri": "https://localhost:8080/"
        }
      },
      "outputs": [
        {
          "output_type": "stream",
          "name": "stdout",
          "text": [
            "epoch: 1, mean loss: 1.7989689321334785, mean accuracy: 0.8898125\n",
            "epoch: 2, mean loss: 0.17492114232154563, mean accuracy: 0.9504583333333333\n",
            "epoch: 3, mean loss: 0.12356707517756149, mean accuracy: 0.9640416666666667\n",
            "epoch: 4, mean loss: 0.12441419799773333, mean accuracy: 0.9652083333333333\n",
            "epoch: 5, mean loss: 0.11318123874176915, mean accuracy: 0.9681875\n",
            "epoch: 6, mean loss: 0.0989107962281802, mean accuracy: 0.9721041666666667\n",
            "epoch: 7, mean loss: 0.09406702944725112, mean accuracy: 0.9747083333333333\n",
            "epoch: 8, mean loss: 0.08041047939568671, mean accuracy: 0.9776875\n",
            "epoch: 9, mean loss: 0.1175203976687044, mean accuracy: 0.9700833333333333\n",
            "epoch: 10, mean loss: 0.11036731272809751, mean accuracy: 0.9722291666666667\n",
            "0.01 32 tensor(0.9722, device='cuda:0') 0.9615\n",
            "epoch: 1, mean loss: 11.78410637229681, mean accuracy: 0.11085416666666667\n",
            "epoch: 2, mean loss: 2.301550720135371, mean accuracy: 0.1123125\n",
            "epoch: 3, mean loss: 2.301595075428486, mean accuracy: 0.1123125\n",
            "epoch: 4, mean loss: 2.3015361463030177, mean accuracy: 0.1123125\n",
            "epoch: 5, mean loss: 2.3015205204486846, mean accuracy: 0.1123125\n",
            "epoch: 6, mean loss: 2.301458474993706, mean accuracy: 0.1115625\n",
            "epoch: 7, mean loss: 2.3015880634387336, mean accuracy: 0.1123125\n",
            "epoch: 8, mean loss: 2.30158085723718, mean accuracy: 0.1123125\n",
            "epoch: 9, mean loss: 2.30149359057347, mean accuracy: 0.1123125\n",
            "epoch: 10, mean loss: 2.3015500605106354, mean accuracy: 0.1123125\n",
            "0.01 64 tensor(0.1123, device='cuda:0') 0.11258333333333333\n",
            "epoch: 1, mean loss: 9.590610576731462, mean accuracy: 0.8684375\n",
            "epoch: 2, mean loss: 0.18241190071372937, mean accuracy: 0.946875\n",
            "epoch: 3, mean loss: 0.14674589475810837, mean accuracy: 0.9580208333333333\n",
            "epoch: 4, mean loss: 0.14996054599178024, mean accuracy: 0.9556458333333333\n",
            "epoch: 5, mean loss: 0.11037441803200636, mean accuracy: 0.9675416666666666\n",
            "epoch: 6, mean loss: 0.09986331679683644, mean accuracy: 0.9713958333333333\n",
            "epoch: 7, mean loss: 0.09742009864882371, mean accuracy: 0.9714583333333333\n",
            "epoch: 8, mean loss: 0.10097460779943504, mean accuracy: 0.9720625\n",
            "epoch: 9, mean loss: 0.08815440126588024, mean accuracy: 0.97525\n",
            "epoch: 10, mean loss: 0.08876690951389415, mean accuracy: 0.9752708333333333\n",
            "0.01 128 tensor(0.9753, device='cuda:0') 0.96325\n",
            "epoch: 1, mean loss: 55.60070377225056, mean accuracy: 0.7854166666666667\n",
            "epoch: 2, mean loss: 0.21597143239341676, mean accuracy: 0.9350625\n",
            "epoch: 3, mean loss: 0.16570691331289708, mean accuracy: 0.9504791666666667\n",
            "epoch: 4, mean loss: 0.14143572569979976, mean accuracy: 0.9569375\n",
            "epoch: 5, mean loss: 0.12901026208419353, mean accuracy: 0.9598333333333333\n",
            "epoch: 6, mean loss: 0.12311828809421664, mean accuracy: 0.9623958333333333\n",
            "epoch: 7, mean loss: 0.11414991454415334, mean accuracy: 0.9650416666666667\n",
            "epoch: 8, mean loss: 0.1062242120426769, mean accuracy: 0.968125\n",
            "epoch: 9, mean loss: 0.09423486494342796, mean accuracy: 0.9708958333333333\n",
            "epoch: 10, mean loss: 0.0932209297005708, mean accuracy: 0.9709375\n",
            "0.01 256 tensor(0.9709, device='cuda:0') 0.9538333333333333\n"
          ]
        }
      ],
      "source": [
        "param_search_list = []\n",
        "\n",
        "# 誤差関数の設定\n",
        "criterion = nn.CrossEntropyLoss()\n",
        "if use_cuda:\n",
        "    criterion.cuda()\n",
        "\n",
        "for channel_size in channel_list:\n",
        "    model = CNN(out_channels=channel_size, hidden_size=n_hidden)\n",
        "    if use_cuda:\n",
        "        model.cuda()\n",
        "\n",
        "    optimizer = torch.optim.SGD(model.parameters(), lr=learning_rate, momentum=0.9)\n",
        "\n",
        "    epoch_list = []\n",
        "    train_loss_list = []\n",
        "    train_accuracy_list = []\n",
        "    val_accuracy_list = []\n",
        "\n",
        "    # ネットワークを学習モードへ変更\n",
        "    model.train()\n",
        "\n",
        "    iteration = 1\n",
        "    for epoch in range(1, epoch_num+1):\n",
        "        count, sum_loss = 0.0, 0.0\n",
        "        \n",
        "        perm = np.random.permutation(num_train_data)\n",
        "        for i in range(0, num_train_data, batch_size):\n",
        "            x_batch = x_train[perm[i:i+batch_size]]\n",
        "            y_batch = y_train[perm[i:i+batch_size]]\n",
        "\n",
        "            x_batch = torch.from_numpy(x_batch).type(torch.float32)\n",
        "            y_batch = torch.from_numpy(y_batch).type(torch.int64)\n",
        "\n",
        "            if use_cuda:\n",
        "                x_batch = x_batch.cuda()\n",
        "                y_batch = y_batch.cuda()\n",
        "\n",
        "            y = model(x_batch)\n",
        "\n",
        "            loss = criterion(y, y_batch)\n",
        "            \n",
        "            model.zero_grad()\n",
        "            loss.backward()\n",
        "            optimizer.step()\n",
        "\n",
        "            sum_loss += loss.item()\n",
        "            pred = torch.argmax(y, dim=1)\n",
        "            count += torch.sum(pred == y_batch)\n",
        "\n",
        "            iteration += 1\n",
        "            \n",
        "        # 検証データでの精度の確認\n",
        "        val_correct_count = 0\n",
        "        for i in range(num_val_data):\n",
        "            input = x_val[i:i+1]\n",
        "            label = y_val[i:i+1]\n",
        "            input = torch.from_numpy(input).type(torch.float32)\n",
        "            label = torch.from_numpy(label).type(torch.int64)\n",
        "            if use_cuda:\n",
        "                input = input.cuda()\n",
        "                label = label.cuda()\n",
        "            y = model(input)\n",
        "            pred = torch.argmax(y)\n",
        "            if pred == label:\n",
        "              val_correct_count += 1\n",
        "\n",
        "        # 学習途中のlossと精度の保存\n",
        "        epoch_list.append(epoch)\n",
        "        train_loss_list.append(sum_loss / num_train_data)\n",
        "        train_accuracy_list.append(count / num_train_data)\n",
        "        val_accuracy_list.append(val_correct_count / num_val_data)\n",
        "            \n",
        "        print(\"epoch: {}, mean loss: {}, mean accuracy: {}\".format(epoch,\n",
        "                                                                  sum_loss / n_iter,\n",
        "                                                                  count.item() / num_train_data))\n",
        "\n",
        "    # 探索した結果の保存\n",
        "    result = {'lr': learning_rate, 'channel_size': channel_size,\n",
        "              'val_acc': val_accuracy_list,\n",
        "              'train_acc': train_accuracy_list,\n",
        "              'train_loss': train_loss_list}\n",
        "    param_search_list.append(result)\n",
        "    print(result['lr'], result['channel_size'], result['train_acc'][-1], result['val_acc'][-1])"
      ]
    },
    {
      "cell_type": "markdown",
      "metadata": {
        "id": "119eIrSmzmw6"
      },
      "source": [
        "## 探索結果の確認\n",
        "\n",
        "`param_search_list`に保存しておいた各ハイパーパラメータに対する結果を確認します．\n",
        "\n",
        "まず，各結果の数値をprintします．\n",
        "その後，各パラメータでの学習推移（検証データ）をプロットし比較します．"
      ]
    },
    {
      "cell_type": "code",
      "execution_count": 16,
      "metadata": {
        "id": "yoYVMRGLzm1I",
        "outputId": "78bee9d0-b5a4-424d-b0d0-b40238b41c72",
        "colab": {
          "base_uri": "https://localhost:8080/",
          "height": 520
        }
      },
      "outputs": [
        {
          "output_type": "stream",
          "name": "stdout",
          "text": [
            "lr: 0.01 channel size 32 train accuracy: tensor(0.9722, device='cuda:0') validation accuracy: 0.9615\n",
            "lr: 0.01 channel size 64 train accuracy: tensor(0.1123, device='cuda:0') validation accuracy: 0.11258333333333333\n",
            "lr: 0.01 channel size 128 train accuracy: tensor(0.9753, device='cuda:0') validation accuracy: 0.96325\n",
            "lr: 0.01 channel size 256 train accuracy: tensor(0.9709, device='cuda:0') validation accuracy: 0.9538333333333333\n"
          ]
        },
        {
          "output_type": "display_data",
          "data": {
            "text/plain": [
              "<Figure size 640x480 with 1 Axes>"
            ],
            "image/png": "[encoded data removed]"
          },
          "metadata": {}
        }
      ],
      "source": [
        "# 学習結果の表示\n",
        "for ps in param_search_list:\n",
        "    print(\"lr:\", ps['lr'],\n",
        "          \"channel size\", ps['channel_size'],\n",
        "          \"train accuracy:\", ps['train_acc'][-1],\n",
        "          \"validation accuracy:\", ps['val_acc'][-1])\n",
        "\n",
        "# グラフプロット\n",
        "plt.figure()\n",
        "for ps in param_search_list:\n",
        "    plt.plot(ps['val_acc'], label='ch. size=%d' % ps['channel_size'])\n",
        "plt.xlabel(\"epoch\")     # x軸ラベル\n",
        "plt.ylabel(\"accuracy\")  # y軸ラベル\n",
        "plt.legend()            # 凡例\n",
        "plt.show()"
      ]
    },
    {
      "cell_type": "markdown",
      "metadata": {
        "id": "vH36DIdfXWR5"
      },
      "source": [
        "## 課題\n",
        "1. 他のパラメータについても探索をして最適な値を見つけよう\n",
        "2. 複数種類のパラメータの最適な組み合わせを求めよう"
      ]
    },
    {
      "cell_type": "markdown",
      "source": [
        "最適な組み合わせはn_hidden_size=64, lr=0.001, channel_size = 128であった．"
      ],
      "metadata": {
        "id": "ITNcO3x0miq4"
      }
    }
  ],
  "metadata": {
    "accelerator": "GPU",
    "colab": {
      "name": "12_parameter_search.ipynb",
      "provenance": []
    },
    "kernelspec": {
      "display_name": "Python 3",
      "language": "python",
      "name": "python3"
    },
    "language_info": {
      "codemirror_mode": {
        "name": "ipython",
        "version": 3
      },
      "file_extension": ".py",
      "mimetype": "text/x-python",
      "name": "python",
      "nbconvert_exporter": "python",
      "pygments_lexer": "ipython3",
      "version": "3.6.9"
    }
  },
  "nbformat": 4,
  "nbformat_minor": 0
}